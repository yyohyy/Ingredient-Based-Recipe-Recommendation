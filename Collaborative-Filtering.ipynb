{
 "cells": [
  {
   "cell_type": "code",
   "execution_count": 194,
   "id": "32d2d1d6-8c33-4d80-baa7-b63710953ae3",
   "metadata": {},
   "outputs": [],
   "source": [
    "import pandas as pd\n",
    "import numpy as np"
   ]
  },
  {
   "cell_type": "code",
   "execution_count": 195,
   "id": "099b342b-ec03-4440-a25a-dc85025a3408",
   "metadata": {},
   "outputs": [],
   "source": [
    "recipes = pd.read_csv('datasets/archive/RAW_recipes.csv')\n",
    "interactions = pd.read_csv('datasets/archive/RAW_interactions.csv')"
   ]
  },
  {
   "cell_type": "code",
   "execution_count": 196,
   "id": "ecc47b63-180d-4732-ace3-07fc1f317dfc",
   "metadata": {},
   "outputs": [
    {
     "data": {
      "text/html": [
       "<div>\n",
       "<style scoped>\n",
       "    .dataframe tbody tr th:only-of-type {\n",
       "        vertical-align: middle;\n",
       "    }\n",
       "\n",
       "    .dataframe tbody tr th {\n",
       "        vertical-align: top;\n",
       "    }\n",
       "\n",
       "    .dataframe thead th {\n",
       "        text-align: right;\n",
       "    }\n",
       "</style>\n",
       "<table border=\"1\" class=\"dataframe\">\n",
       "  <thead>\n",
       "    <tr style=\"text-align: right;\">\n",
       "      <th></th>\n",
       "      <th>name</th>\n",
       "      <th>id</th>\n",
       "      <th>minutes</th>\n",
       "      <th>contributor_id</th>\n",
       "      <th>submitted</th>\n",
       "      <th>tags</th>\n",
       "      <th>nutrition</th>\n",
       "      <th>n_steps</th>\n",
       "      <th>steps</th>\n",
       "      <th>description</th>\n",
       "      <th>ingredients</th>\n",
       "      <th>n_ingredients</th>\n",
       "    </tr>\n",
       "  </thead>\n",
       "  <tbody>\n",
       "    <tr>\n",
       "      <th>0</th>\n",
       "      <td>arriba   baked winter squash mexican style</td>\n",
       "      <td>137739</td>\n",
       "      <td>55</td>\n",
       "      <td>47892</td>\n",
       "      <td>2005-09-16</td>\n",
       "      <td>['60-minutes-or-less', 'time-to-make', 'course...</td>\n",
       "      <td>[51.5, 0.0, 13.0, 0.0, 2.0, 0.0, 4.0]</td>\n",
       "      <td>11</td>\n",
       "      <td>['make a choice and proceed with recipe', 'dep...</td>\n",
       "      <td>autumn is my favorite time of year to cook! th...</td>\n",
       "      <td>['winter squash', 'mexican seasoning', 'mixed ...</td>\n",
       "      <td>7</td>\n",
       "    </tr>\n",
       "    <tr>\n",
       "      <th>1</th>\n",
       "      <td>a bit different  breakfast pizza</td>\n",
       "      <td>31490</td>\n",
       "      <td>30</td>\n",
       "      <td>26278</td>\n",
       "      <td>2002-06-17</td>\n",
       "      <td>['30-minutes-or-less', 'time-to-make', 'course...</td>\n",
       "      <td>[173.4, 18.0, 0.0, 17.0, 22.0, 35.0, 1.0]</td>\n",
       "      <td>9</td>\n",
       "      <td>['preheat oven to 425 degrees f', 'press dough...</td>\n",
       "      <td>this recipe calls for the crust to be prebaked...</td>\n",
       "      <td>['prepared pizza crust', 'sausage patty', 'egg...</td>\n",
       "      <td>6</td>\n",
       "    </tr>\n",
       "    <tr>\n",
       "      <th>2</th>\n",
       "      <td>all in the kitchen  chili</td>\n",
       "      <td>112140</td>\n",
       "      <td>130</td>\n",
       "      <td>196586</td>\n",
       "      <td>2005-02-25</td>\n",
       "      <td>['time-to-make', 'course', 'preparation', 'mai...</td>\n",
       "      <td>[269.8, 22.0, 32.0, 48.0, 39.0, 27.0, 5.0]</td>\n",
       "      <td>6</td>\n",
       "      <td>['brown ground beef in large pot', 'add choppe...</td>\n",
       "      <td>this modified version of 'mom's' chili was a h...</td>\n",
       "      <td>['ground beef', 'yellow onions', 'diced tomato...</td>\n",
       "      <td>13</td>\n",
       "    </tr>\n",
       "    <tr>\n",
       "      <th>3</th>\n",
       "      <td>alouette  potatoes</td>\n",
       "      <td>59389</td>\n",
       "      <td>45</td>\n",
       "      <td>68585</td>\n",
       "      <td>2003-04-14</td>\n",
       "      <td>['60-minutes-or-less', 'time-to-make', 'course...</td>\n",
       "      <td>[368.1, 17.0, 10.0, 2.0, 14.0, 8.0, 20.0]</td>\n",
       "      <td>11</td>\n",
       "      <td>['place potatoes in a large pot of lightly sal...</td>\n",
       "      <td>this is a super easy, great tasting, make ahea...</td>\n",
       "      <td>['spreadable cheese with garlic and herbs', 'n...</td>\n",
       "      <td>11</td>\n",
       "    </tr>\n",
       "    <tr>\n",
       "      <th>4</th>\n",
       "      <td>amish  tomato ketchup  for canning</td>\n",
       "      <td>44061</td>\n",
       "      <td>190</td>\n",
       "      <td>41706</td>\n",
       "      <td>2002-10-25</td>\n",
       "      <td>['weeknight', 'time-to-make', 'course', 'main-...</td>\n",
       "      <td>[352.9, 1.0, 337.0, 23.0, 3.0, 0.0, 28.0]</td>\n",
       "      <td>5</td>\n",
       "      <td>['mix all ingredients&amp; boil for 2 1 / 2 hours ...</td>\n",
       "      <td>my dh's amish mother raised him on this recipe...</td>\n",
       "      <td>['tomato juice', 'apple cider vinegar', 'sugar...</td>\n",
       "      <td>8</td>\n",
       "    </tr>\n",
       "  </tbody>\n",
       "</table>\n",
       "</div>"
      ],
      "text/plain": [
       "                                         name      id  minutes  \\\n",
       "0  arriba   baked winter squash mexican style  137739       55   \n",
       "1            a bit different  breakfast pizza   31490       30   \n",
       "2                   all in the kitchen  chili  112140      130   \n",
       "3                          alouette  potatoes   59389       45   \n",
       "4          amish  tomato ketchup  for canning   44061      190   \n",
       "\n",
       "   contributor_id   submitted  \\\n",
       "0           47892  2005-09-16   \n",
       "1           26278  2002-06-17   \n",
       "2          196586  2005-02-25   \n",
       "3           68585  2003-04-14   \n",
       "4           41706  2002-10-25   \n",
       "\n",
       "                                                tags  \\\n",
       "0  ['60-minutes-or-less', 'time-to-make', 'course...   \n",
       "1  ['30-minutes-or-less', 'time-to-make', 'course...   \n",
       "2  ['time-to-make', 'course', 'preparation', 'mai...   \n",
       "3  ['60-minutes-or-less', 'time-to-make', 'course...   \n",
       "4  ['weeknight', 'time-to-make', 'course', 'main-...   \n",
       "\n",
       "                                    nutrition  n_steps  \\\n",
       "0       [51.5, 0.0, 13.0, 0.0, 2.0, 0.0, 4.0]       11   \n",
       "1   [173.4, 18.0, 0.0, 17.0, 22.0, 35.0, 1.0]        9   \n",
       "2  [269.8, 22.0, 32.0, 48.0, 39.0, 27.0, 5.0]        6   \n",
       "3   [368.1, 17.0, 10.0, 2.0, 14.0, 8.0, 20.0]       11   \n",
       "4   [352.9, 1.0, 337.0, 23.0, 3.0, 0.0, 28.0]        5   \n",
       "\n",
       "                                               steps  \\\n",
       "0  ['make a choice and proceed with recipe', 'dep...   \n",
       "1  ['preheat oven to 425 degrees f', 'press dough...   \n",
       "2  ['brown ground beef in large pot', 'add choppe...   \n",
       "3  ['place potatoes in a large pot of lightly sal...   \n",
       "4  ['mix all ingredients& boil for 2 1 / 2 hours ...   \n",
       "\n",
       "                                         description  \\\n",
       "0  autumn is my favorite time of year to cook! th...   \n",
       "1  this recipe calls for the crust to be prebaked...   \n",
       "2  this modified version of 'mom's' chili was a h...   \n",
       "3  this is a super easy, great tasting, make ahea...   \n",
       "4  my dh's amish mother raised him on this recipe...   \n",
       "\n",
       "                                         ingredients  n_ingredients  \n",
       "0  ['winter squash', 'mexican seasoning', 'mixed ...              7  \n",
       "1  ['prepared pizza crust', 'sausage patty', 'egg...              6  \n",
       "2  ['ground beef', 'yellow onions', 'diced tomato...             13  \n",
       "3  ['spreadable cheese with garlic and herbs', 'n...             11  \n",
       "4  ['tomato juice', 'apple cider vinegar', 'sugar...              8  "
      ]
     },
     "execution_count": 196,
     "metadata": {},
     "output_type": "execute_result"
    }
   ],
   "source": [
    "recipes.head()"
   ]
  },
  {
   "cell_type": "code",
   "execution_count": 197,
   "id": "a93facce-8938-4f61-bd3a-6f86e5f7b93d",
   "metadata": {},
   "outputs": [
    {
     "data": {
      "text/html": [
       "<div>\n",
       "<style scoped>\n",
       "    .dataframe tbody tr th:only-of-type {\n",
       "        vertical-align: middle;\n",
       "    }\n",
       "\n",
       "    .dataframe tbody tr th {\n",
       "        vertical-align: top;\n",
       "    }\n",
       "\n",
       "    .dataframe thead th {\n",
       "        text-align: right;\n",
       "    }\n",
       "</style>\n",
       "<table border=\"1\" class=\"dataframe\">\n",
       "  <thead>\n",
       "    <tr style=\"text-align: right;\">\n",
       "      <th></th>\n",
       "      <th>user_id</th>\n",
       "      <th>recipe_id</th>\n",
       "      <th>date</th>\n",
       "      <th>rating</th>\n",
       "      <th>review</th>\n",
       "    </tr>\n",
       "  </thead>\n",
       "  <tbody>\n",
       "    <tr>\n",
       "      <th>0</th>\n",
       "      <td>38094</td>\n",
       "      <td>40893</td>\n",
       "      <td>2003-02-17</td>\n",
       "      <td>4</td>\n",
       "      <td>Great with a salad. Cooked on top of stove for...</td>\n",
       "    </tr>\n",
       "    <tr>\n",
       "      <th>1</th>\n",
       "      <td>1293707</td>\n",
       "      <td>40893</td>\n",
       "      <td>2011-12-21</td>\n",
       "      <td>5</td>\n",
       "      <td>So simple, so delicious! Great for chilly fall...</td>\n",
       "    </tr>\n",
       "    <tr>\n",
       "      <th>2</th>\n",
       "      <td>8937</td>\n",
       "      <td>44394</td>\n",
       "      <td>2002-12-01</td>\n",
       "      <td>4</td>\n",
       "      <td>This worked very well and is EASY.  I used not...</td>\n",
       "    </tr>\n",
       "    <tr>\n",
       "      <th>3</th>\n",
       "      <td>126440</td>\n",
       "      <td>85009</td>\n",
       "      <td>2010-02-27</td>\n",
       "      <td>5</td>\n",
       "      <td>I made the Mexican topping and took it to bunk...</td>\n",
       "    </tr>\n",
       "    <tr>\n",
       "      <th>4</th>\n",
       "      <td>57222</td>\n",
       "      <td>85009</td>\n",
       "      <td>2011-10-01</td>\n",
       "      <td>5</td>\n",
       "      <td>Made the cheddar bacon topping, adding a sprin...</td>\n",
       "    </tr>\n",
       "  </tbody>\n",
       "</table>\n",
       "</div>"
      ],
      "text/plain": [
       "   user_id  recipe_id        date  rating  \\\n",
       "0    38094      40893  2003-02-17       4   \n",
       "1  1293707      40893  2011-12-21       5   \n",
       "2     8937      44394  2002-12-01       4   \n",
       "3   126440      85009  2010-02-27       5   \n",
       "4    57222      85009  2011-10-01       5   \n",
       "\n",
       "                                              review  \n",
       "0  Great with a salad. Cooked on top of stove for...  \n",
       "1  So simple, so delicious! Great for chilly fall...  \n",
       "2  This worked very well and is EASY.  I used not...  \n",
       "3  I made the Mexican topping and took it to bunk...  \n",
       "4  Made the cheddar bacon topping, adding a sprin...  "
      ]
     },
     "execution_count": 197,
     "metadata": {},
     "output_type": "execute_result"
    }
   ],
   "source": [
    "interactions.head()"
   ]
  },
  {
   "cell_type": "code",
   "execution_count": 198,
   "id": "2d53240a-e228-4076-9978-3cdda176d74a",
   "metadata": {},
   "outputs": [
    {
     "name": "stdout",
     "output_type": "stream",
     "text": [
      "<class 'pandas.core.frame.DataFrame'>\n",
      "RangeIndex: 231637 entries, 0 to 231636\n",
      "Data columns (total 12 columns):\n",
      " #   Column          Non-Null Count   Dtype \n",
      "---  ------          --------------   ----- \n",
      " 0   name            231636 non-null  object\n",
      " 1   id              231637 non-null  int64 \n",
      " 2   minutes         231637 non-null  int64 \n",
      " 3   contributor_id  231637 non-null  int64 \n",
      " 4   submitted       231637 non-null  object\n",
      " 5   tags            231637 non-null  object\n",
      " 6   nutrition       231637 non-null  object\n",
      " 7   n_steps         231637 non-null  int64 \n",
      " 8   steps           231637 non-null  object\n",
      " 9   description     226658 non-null  object\n",
      " 10  ingredients     231637 non-null  object\n",
      " 11  n_ingredients   231637 non-null  int64 \n",
      "dtypes: int64(5), object(7)\n",
      "memory usage: 21.2+ MB\n",
      "<class 'pandas.core.frame.DataFrame'>\n",
      "RangeIndex: 1132367 entries, 0 to 1132366\n",
      "Data columns (total 5 columns):\n",
      " #   Column     Non-Null Count    Dtype \n",
      "---  ------     --------------    ----- \n",
      " 0   user_id    1132367 non-null  int64 \n",
      " 1   recipe_id  1132367 non-null  int64 \n",
      " 2   date       1132367 non-null  object\n",
      " 3   rating     1132367 non-null  int64 \n",
      " 4   review     1132198 non-null  object\n",
      "dtypes: int64(3), object(2)\n",
      "memory usage: 43.2+ MB\n"
     ]
    }
   ],
   "source": [
    "recipes.info()\n",
    "interactions.info()"
   ]
  },
  {
   "cell_type": "code",
   "execution_count": 199,
   "id": "2870e254-2813-4831-8f28-24593027c784",
   "metadata": {},
   "outputs": [
    {
     "data": {
      "text/plain": [
       "0         ['winter squash', 'mexican seasoning', 'mixed ...\n",
       "1         ['prepared pizza crust', 'sausage patty', 'egg...\n",
       "2         ['ground beef', 'yellow onions', 'diced tomato...\n",
       "3         ['spreadable cheese with garlic and herbs', 'n...\n",
       "4         ['tomato juice', 'apple cider vinegar', 'sugar...\n",
       "                                ...                        \n",
       "231632    ['celery', 'onion', 'green sweet pepper', 'gar...\n",
       "231633    ['paprika', 'salt', 'garlic powder', 'onion po...\n",
       "231634    ['hard-cooked eggs', 'mayonnaise', 'dijon must...\n",
       "231635    ['butter', 'eagle brand condensed milk', 'ligh...\n",
       "231636    ['granulated sugar', 'shortening', 'eggs', 'fl...\n",
       "Name: ingredients, Length: 231637, dtype: object"
      ]
     },
     "execution_count": 199,
     "metadata": {},
     "output_type": "execute_result"
    }
   ],
   "source": [
    "recipes['ingredients']"
   ]
  },
  {
   "cell_type": "code",
   "execution_count": 200,
   "id": "7552054f-509e-4189-a2a5-26acfca78b9e",
   "metadata": {},
   "outputs": [
    {
     "data": {
      "text/plain": [
       "\"['prepared pizza crust', 'sausage patty', 'eggs', 'milk', 'salt and pepper', 'cheese']\""
      ]
     },
     "execution_count": 200,
     "metadata": {},
     "output_type": "execute_result"
    }
   ],
   "source": [
    "recipes['ingredients'][1]"
   ]
  },
  {
   "cell_type": "code",
   "execution_count": 201,
   "id": "e099e157-7844-4321-b569-b2e3cc1a1aab",
   "metadata": {},
   "outputs": [
    {
     "data": {
      "text/plain": [
       "'['"
      ]
     },
     "execution_count": 201,
     "metadata": {},
     "output_type": "execute_result"
    }
   ],
   "source": [
    "recipes['ingredients'][1][0]"
   ]
  },
  {
   "cell_type": "code",
   "execution_count": 202,
   "id": "4d0cf1e2-777c-4244-b0df-54799fd50f16",
   "metadata": {},
   "outputs": [],
   "source": [
    "import ast"
   ]
  },
  {
   "cell_type": "code",
   "execution_count": 203,
   "id": "8b890dde-ad11-4f61-acb8-5d57bc5b4f87",
   "metadata": {},
   "outputs": [],
   "source": [
    "recipes['ingredients'] = recipes['ingredients'].apply(ast.literal_eval)"
   ]
  },
  {
   "cell_type": "code",
   "execution_count": 204,
   "id": "623c72d0-9c13-4a61-9073-b72e2145b524",
   "metadata": {},
   "outputs": [
    {
     "data": {
      "text/plain": [
       "'sausage patty'"
      ]
     },
     "execution_count": 204,
     "metadata": {},
     "output_type": "execute_result"
    }
   ],
   "source": [
    "recipes['ingredients'][1][1]"
   ]
  },
  {
   "cell_type": "markdown",
   "id": "55360fbf-d6f1-4fe3-b54c-afe923a01eaf",
   "metadata": {},
   "source": [
    "## Content-Based Filtering"
   ]
  },
  {
   "cell_type": "code",
   "execution_count": 205,
   "id": "13fdca72-2750-4806-b8e3-6ec20fc85517",
   "metadata": {},
   "outputs": [],
   "source": [
    "from sklearn.feature_extraction.text import TfidfVectorizer\n",
    "from sklearn.metrics.pairwise import cosine_similarity"
   ]
  },
  {
   "cell_type": "code",
   "execution_count": 206,
   "id": "b33e1b08-9ec9-43a9-b14a-4a26b4f57523",
   "metadata": {},
   "outputs": [],
   "source": [
    "tfidf = TfidfVectorizer(stop_words=\"english\", max_features=5000)\n",
    "ingredient_matrix = tfidf.fit_transform(recipes['ingredients'].apply(lambda x: ' '.join(x)))"
   ]
  },
  {
   "cell_type": "code",
   "execution_count": 207,
   "id": "ef13ab27-e56a-4e65-a12d-a0d7f5b52d26",
   "metadata": {},
   "outputs": [
    {
     "data": {
      "text/plain": [
       "<231637x4158 sparse matrix of type '<class 'numpy.float64'>'\n",
       "\twith 3532612 stored elements in Compressed Sparse Row format>"
      ]
     },
     "execution_count": 207,
     "metadata": {},
     "output_type": "execute_result"
    }
   ],
   "source": [
    "ingredient_matrix"
   ]
  },
  {
   "cell_type": "code",
   "execution_count": 208,
   "id": "74360204-85cc-4b19-beb4-7caa2d89880e",
   "metadata": {},
   "outputs": [],
   "source": [
    "def find_recipes(input_ingredients, top_n=5):\n",
    "    input_ingredients_str = ' '.join(input_ingredients)\n",
    "\n",
    "    input_vector = tfidf.transform([input_ingredients_str])\n",
    "    \n",
    "    similarity_scores = cosine_similarity(input_vector, ingredient_matrix).flatten()\n",
    "    \n",
    "    similar_indices = similarity_scores.argsort()[-top_n:][::-1]\n",
    "    \n",
    "    similar_recipes = recipes.iloc[similar_indices][['name','ingredients','steps']]\n",
    "    # similar_recipes['similarity_score'] = similarity_scores[similar_indices]\n",
    "    return similar_recipes\n"
   ]
  },
  {
   "cell_type": "code",
   "execution_count": 209,
   "id": "55b948cd-9e25-4df5-b0f2-d349236e0783",
   "metadata": {},
   "outputs": [
    {
     "data": {
      "text/html": [
       "<div>\n",
       "<style scoped>\n",
       "    .dataframe tbody tr th:only-of-type {\n",
       "        vertical-align: middle;\n",
       "    }\n",
       "\n",
       "    .dataframe tbody tr th {\n",
       "        vertical-align: top;\n",
       "    }\n",
       "\n",
       "    .dataframe thead th {\n",
       "        text-align: right;\n",
       "    }\n",
       "</style>\n",
       "<table border=\"1\" class=\"dataframe\">\n",
       "  <thead>\n",
       "    <tr style=\"text-align: right;\">\n",
       "      <th></th>\n",
       "      <th>name</th>\n",
       "      <th>ingredients</th>\n",
       "      <th>steps</th>\n",
       "    </tr>\n",
       "  </thead>\n",
       "  <tbody>\n",
       "    <tr>\n",
       "      <th>231636</th>\n",
       "      <td>cookies by design   sugar shortbread cookies</td>\n",
       "      <td>[granulated sugar, shortening, eggs, flour, cr...</td>\n",
       "      <td>['whip sugar and shortening in a large bowl , ...</td>\n",
       "    </tr>\n",
       "    <tr>\n",
       "      <th>77192</th>\n",
       "      <td>easy mix cornbread</td>\n",
       "      <td>[all-purpose flour, cornmeal, caster sugar, ba...</td>\n",
       "      <td>['preheat oven to 180 degree celcius', 'line 8...</td>\n",
       "    </tr>\n",
       "    <tr>\n",
       "      <th>77218</th>\n",
       "      <td>easy morning pancakes</td>\n",
       "      <td>[flour, sugar, baking powder, salt, egg, olive...</td>\n",
       "      <td>['in a big bowl , mix sugar , salt , egg and o...</td>\n",
       "    </tr>\n",
       "    <tr>\n",
       "      <th>77217</th>\n",
       "      <td>easy morning french toast bake</td>\n",
       "      <td>[challah, eggs, heavy cream, orange, zest of, ...</td>\n",
       "      <td>['preheat oven to 400', 'slice the challah bre...</td>\n",
       "    </tr>\n",
       "    <tr>\n",
       "      <th>77216</th>\n",
       "      <td>easy moose rump roast</td>\n",
       "      <td>[moose rump roast, worcestershire sauce, veget...</td>\n",
       "      <td>['trim off all excess fat and rub roast all ov...</td>\n",
       "    </tr>\n",
       "  </tbody>\n",
       "</table>\n",
       "</div>"
      ],
      "text/plain": [
       "                                                name  \\\n",
       "231636  cookies by design   sugar shortbread cookies   \n",
       "77192                             easy mix cornbread   \n",
       "77218                          easy morning pancakes   \n",
       "77217                 easy morning french toast bake   \n",
       "77216                          easy moose rump roast   \n",
       "\n",
       "                                              ingredients  \\\n",
       "231636  [granulated sugar, shortening, eggs, flour, cr...   \n",
       "77192   [all-purpose flour, cornmeal, caster sugar, ba...   \n",
       "77218   [flour, sugar, baking powder, salt, egg, olive...   \n",
       "77217   [challah, eggs, heavy cream, orange, zest of, ...   \n",
       "77216   [moose rump roast, worcestershire sauce, veget...   \n",
       "\n",
       "                                                    steps  \n",
       "231636  ['whip sugar and shortening in a large bowl , ...  \n",
       "77192   ['preheat oven to 180 degree celcius', 'line 8...  \n",
       "77218   ['in a big bowl , mix sugar , salt , egg and o...  \n",
       "77217   ['preheat oven to 400', 'slice the challah bre...  \n",
       "77216   ['trim off all excess fat and rub roast all ov...  "
      ]
     },
     "execution_count": 209,
     "metadata": {},
     "output_type": "execute_result"
    }
   ],
   "source": [
    "find_recipes(\"sugar\")"
   ]
  },
  {
   "cell_type": "markdown",
   "id": "b8ee84f3-0dcb-4d68-bd13-6883af714bd7",
   "metadata": {},
   "source": [
    "# Collaborative Filtering"
   ]
  },
  {
   "cell_type": "code",
   "execution_count": 210,
   "id": "f5e38208-bfe3-4eb5-a1d7-90102df619f6",
   "metadata": {},
   "outputs": [],
   "source": [
    "interactions = pd.read_csv('datasets/archive/RAW_interactions.csv')"
   ]
  },
  {
   "cell_type": "code",
   "execution_count": 211,
   "id": "3fbd5b0c-0715-46f0-88d7-924d46df5ff1",
   "metadata": {},
   "outputs": [
    {
     "data": {
      "text/plain": [
       "user_id       226570\n",
       "recipe_id     231637\n",
       "date            6396\n",
       "rating             6\n",
       "review       1125282\n",
       "dtype: int64"
      ]
     },
     "execution_count": 211,
     "metadata": {},
     "output_type": "execute_result"
    }
   ],
   "source": [
    "interactions.nunique()"
   ]
  },
  {
   "cell_type": "code",
   "execution_count": 212,
   "id": "3db5f929-ed22-4643-b5f3-ed8d364d9d91",
   "metadata": {},
   "outputs": [
    {
     "data": {
      "text/plain": [
       "0.10005854007948285"
      ]
     },
     "execution_count": 212,
     "metadata": {},
     "output_type": "execute_result"
    }
   ],
   "source": [
    "interactions['user_id'].corr(interactions['recipe_id'])"
   ]
  },
  {
   "cell_type": "code",
   "execution_count": 213,
   "id": "dbef11be-0bd2-46d4-948a-f854a3340094",
   "metadata": {},
   "outputs": [
    {
     "data": {
      "text/plain": [
       "rating\n",
       "5    816364\n",
       "4    187360\n",
       "0     60847\n",
       "3     40855\n",
       "2     14123\n",
       "1     12818\n",
       "Name: count, dtype: int64"
      ]
     },
     "execution_count": 213,
     "metadata": {},
     "output_type": "execute_result"
    }
   ],
   "source": [
    "interactions['rating'].value_counts()"
   ]
  },
  {
   "cell_type": "code",
   "execution_count": 214,
   "id": "b6b783fe-d23c-452b-ba1e-6c4b55d3c488",
   "metadata": {},
   "outputs": [],
   "source": [
    "interactions = interactions [ interactions['rating'] > 0]"
   ]
  },
  {
   "cell_type": "code",
   "execution_count": 215,
   "id": "381ea41d-c1bb-4e04-84d6-4b1b15b870b7",
   "metadata": {},
   "outputs": [
    {
     "data": {
      "text/plain": [
       "rating\n",
       "5    816364\n",
       "4    187360\n",
       "3     40855\n",
       "2     14123\n",
       "1     12818\n",
       "Name: count, dtype: int64"
      ]
     },
     "execution_count": 215,
     "metadata": {},
     "output_type": "execute_result"
    }
   ],
   "source": [
    "interactions['rating'].value_counts()"
   ]
  },
  {
   "cell_type": "code",
   "execution_count": 216,
   "id": "06e93e1f-209f-407a-a973-344d2c357059",
   "metadata": {},
   "outputs": [],
   "source": [
    "grouped_users = interactions.groupby(['user_id'], as_index=False, sort=False).agg({'recipe_id': 'count'}).reset_index(drop=True)\n",
    "grouped_users = grouped_users.rename(columns={'recipe_id': 'reviews_count'})\n",
    "grouped_users = grouped_users.sort_values('reviews_count', ascending=False).iloc[:10000, :]"
   ]
  },
  {
   "cell_type": "code",
   "execution_count": 217,
   "id": "ec43182c-dfb4-412b-8fd7-e2923af546e0",
   "metadata": {},
   "outputs": [],
   "source": [
    "grouped_recipes = interactions.groupby(['recipe_id'], as_index=False, sort=False).agg({'user_id': 'count'}).reset_index(drop=True)\n",
    "grouped_recipes = grouped_recipes.rename(columns={'user_id': 'reviews_count'})\n",
    "grouped_recipes = grouped_recipes.sort_values('reviews_count', ascending=False).iloc[:10000, :]"
   ]
  },
  {
   "cell_type": "code",
   "execution_count": 218,
   "id": "8fcdfd66-b0f9-4d27-a7b0-9ebfa3c1f5c6",
   "metadata": {},
   "outputs": [
    {
     "name": "stdout",
     "output_type": "stream",
     "text": [
      "(280216, 5)\n"
     ]
    },
    {
     "data": {
      "text/html": [
       "<div>\n",
       "<style scoped>\n",
       "    .dataframe tbody tr th:only-of-type {\n",
       "        vertical-align: middle;\n",
       "    }\n",
       "\n",
       "    .dataframe tbody tr th {\n",
       "        vertical-align: top;\n",
       "    }\n",
       "\n",
       "    .dataframe thead th {\n",
       "        text-align: right;\n",
       "    }\n",
       "</style>\n",
       "<table border=\"1\" class=\"dataframe\">\n",
       "  <thead>\n",
       "    <tr style=\"text-align: right;\">\n",
       "      <th></th>\n",
       "      <th>user_id</th>\n",
       "      <th>recipe_id</th>\n",
       "      <th>date</th>\n",
       "      <th>rating</th>\n",
       "      <th>review</th>\n",
       "    </tr>\n",
       "  </thead>\n",
       "  <tbody>\n",
       "    <tr>\n",
       "      <th>0</th>\n",
       "      <td>56680</td>\n",
       "      <td>79222</td>\n",
       "      <td>2006-11-11</td>\n",
       "      <td>5</td>\n",
       "      <td>Oh, This was wonderful!  Had a soup and salad ...</td>\n",
       "    </tr>\n",
       "    <tr>\n",
       "      <th>1</th>\n",
       "      <td>183565</td>\n",
       "      <td>79222</td>\n",
       "      <td>2006-02-13</td>\n",
       "      <td>5</td>\n",
       "      <td>Wow!  My family loves this recipe and it is a ...</td>\n",
       "    </tr>\n",
       "    <tr>\n",
       "      <th>2</th>\n",
       "      <td>101823</td>\n",
       "      <td>79222</td>\n",
       "      <td>2006-03-21</td>\n",
       "      <td>5</td>\n",
       "      <td>Excellent chowder.  This was the perfect warm-...</td>\n",
       "    </tr>\n",
       "    <tr>\n",
       "      <th>3</th>\n",
       "      <td>446143</td>\n",
       "      <td>79222</td>\n",
       "      <td>2008-02-01</td>\n",
       "      <td>4</td>\n",
       "      <td>Oh, how wonderful!  I doubled the crab, and ad...</td>\n",
       "    </tr>\n",
       "    <tr>\n",
       "      <th>4</th>\n",
       "      <td>226989</td>\n",
       "      <td>79222</td>\n",
       "      <td>2008-03-07</td>\n",
       "      <td>4</td>\n",
       "      <td>DH and I enjoyed this. However I used it only ...</td>\n",
       "    </tr>\n",
       "  </tbody>\n",
       "</table>\n",
       "</div>"
      ],
      "text/plain": [
       "   user_id  recipe_id        date  rating  \\\n",
       "0    56680      79222  2006-11-11       5   \n",
       "1   183565      79222  2006-02-13       5   \n",
       "2   101823      79222  2006-03-21       5   \n",
       "3   446143      79222  2008-02-01       4   \n",
       "4   226989      79222  2008-03-07       4   \n",
       "\n",
       "                                              review  \n",
       "0  Oh, This was wonderful!  Had a soup and salad ...  \n",
       "1  Wow!  My family loves this recipe and it is a ...  \n",
       "2  Excellent chowder.  This was the perfect warm-...  \n",
       "3  Oh, how wonderful!  I doubled the crab, and ad...  \n",
       "4  DH and I enjoyed this. However I used it only ...  "
      ]
     },
     "execution_count": 218,
     "metadata": {},
     "output_type": "execute_result"
    }
   ],
   "source": [
    "user_filtered = pd.merge(interactions, grouped_users, on='user_id').drop(['reviews_count'], axis=1)\n",
    "\n",
    "filtered_interactions = pd.merge(user_filtered, grouped_recipes, on='recipe_id').drop(['reviews_count'], axis=1)\n",
    "\n",
    "print(filtered_interactions.shape)\n",
    "filtered_interactions.head()\n"
   ]
  },
  {
   "cell_type": "code",
   "execution_count": 219,
   "id": "20cb1f6d-b53b-40f5-949b-9964d2b3394d",
   "metadata": {},
   "outputs": [
    {
     "data": {
      "text/plain": [
       "user_id        9970\n",
       "recipe_id      9973\n",
       "date           6189\n",
       "rating            5\n",
       "review       278857\n",
       "dtype: int64"
      ]
     },
     "execution_count": 219,
     "metadata": {},
     "output_type": "execute_result"
    }
   ],
   "source": [
    "filtered_interactions.nunique()"
   ]
  },
  {
   "cell_type": "code",
   "execution_count": 220,
   "id": "992d9552-0d44-452f-8aba-405c8771ae6f",
   "metadata": {},
   "outputs": [
    {
     "name": "stdout",
     "output_type": "stream",
     "text": [
      "\n",
      "Top 2 recommended recipes for User using User-User CF:\n",
      "Recipe 132916 with predicted rating 5.0\n",
      "Recipe 123588 with predicted rating 2.7525512860841093\n",
      "\n",
      "Top 2 recommended recipes for User 0 using Recipe-Recipe CF:\n",
      "Recipe 110139 with predicted rating 1.8438144115168433\n",
      "Recipe 145464 with predicted rating 1.4229009557268566\n",
      "Recipe 87378 with predicted rating 1.1367048644883908\n",
      "Recipe 103811 with predicted rating 1.0995597287802639\n",
      "Recipe 175469 with predicted rating 1.0683164088792216\n"
     ]
    }
   ],
   "source": [
    "import numpy as np\n",
    "import pandas as pd\n",
    "from sklearn.metrics.pairwise import cosine_similarity\n",
    "\n",
    "user_recipe_matrix = filtered_interactions.pivot(index='user_id', columns='recipe_id', values='rating').fillna(0)\n",
    "\n",
    "user_similarity = cosine_similarity(user_recipe_matrix)\n",
    "recipe_similarity = cosine_similarity(user_recipe_matrix.T)\n",
    "\n",
    "def predict_rating_user_user(user_index, recipe_index, top_n=2):\n",
    "    similar_users_idx, user_similarities = get_top_similar_users(user_index, top_n)\n",
    "\n",
    "    ratings = user_recipe_matrix.iloc[similar_users_idx, recipe_index]\n",
    "    \n",
    "    weighted_rating = np.dot(user_similarities, ratings) / np.sum(np.abs(user_similarities))\n",
    "    \n",
    "    return weighted_rating\n",
    "\n",
    "def predict_rating_recipe_recipe(user_index, recipe_index, top_n=2):\n",
    "    similar_recipes_idx, recipe_similarities = get_top_similar_recipes(recipe_index, top_n)\n",
    "    \n",
    "    ratings = user_recipe_matrix.iloc[user_index, similar_recipes_idx]\n",
    "    \n",
    "    weighted_rating = np.dot(recipe_similarities, ratings) / np.sum(np.abs(recipe_similarities))\n",
    "    \n",
    "    return weighted_rating\n",
    "\n",
    "def get_top_similar_users(user_index, top_n=2):\n",
    "    similar_users = user_similarity[user_index]\n",
    "    similar_users_idx = similar_users.argsort()[-top_n-1:-1][::-1] \n",
    "    return similar_users_idx, similar_users[similar_users_idx]\n",
    "\n",
    "def get_top_similar_recipes(recipe_index, top_n=2):\n",
    "    similar_recipes = recipe_similarity[recipe_index]\n",
    "    similar_recipes_idx = similar_recipes.argsort()[-top_n-1:-1][::-1]  \n",
    "    return similar_recipes_idx, similar_recipes[similar_recipes_idx]\n",
    "\n",
    "predicted_rating_user_user = predict_rating_user_user(0, 2, top_n=2)\n",
    "\n",
    "predicted_rating_recipe_recipe = predict_rating_recipe_recipe(0, 2, top_n=2)\n",
    "\n",
    "def suggest_recipes_user_user(user_index, top_n=2):\n",
    "    predicted_ratings = []\n",
    "    for recipe_index in range(user_recipe_matrix.shape[1]):\n",
    "        predicted_rating = predict_rating_user_user(user_index, recipe_index, top_n)\n",
    "        predicted_ratings.append((recipe_index, predicted_rating))\n",
    "    \n",
    "    predicted_ratings.sort(key=lambda x: x[1], reverse=True)\n",
    "\n",
    "    top_recommended_recipes = predicted_ratings[:top_n]\n",
    "    return [(user_recipe_matrix.columns[idx], rating) for idx, rating in top_recommended_recipes]\n",
    "\n",
    "\n",
    "recommended_recipes_user_user = suggest_recipes_user_user(0, top_n=2)\n",
    "print(\"\\nTop 2 recommended recipes for User using User-User CF:\")\n",
    "for recipe, rating in recommended_recipes_user_user:\n",
    "    print(f\"Recipe {recipe} with predicted rating {rating}\")\n",
    "    \n",
    "def suggest_recipes_recipe_recipe(user_index, top_n=5):\n",
    "    predicted_ratings = []\n",
    "    for recipe_index in range(user_recipe_matrix.shape[1]):\n",
    "        predicted_rating = predict_rating_recipe_recipe(user_index, recipe_index, top_n)\n",
    "        predicted_ratings.append((recipe_index, predicted_rating))\n",
    "    \n",
    "    predicted_ratings.sort(key=lambda x: x[1], reverse=True)\n",
    "    \n",
    "    top_recommended_recipes = predicted_ratings[:top_n]\n",
    "    return [(user_recipe_matrix.columns[idx], rating) for idx, rating in top_recommended_recipes]\n",
    "\n",
    "recommended_recipes_recipe_recipe = suggest_recipes_recipe_recipe(0, top_n=5)\n",
    "print(\"\\nTop 2 recommended recipes for User 0 using Recipe-Recipe CF:\")\n",
    "for recipe, rating in recommended_recipes_recipe_recipe:\n",
    "    print(f\"Recipe {recipe} with predicted rating {rating}\")\n"
   ]
  },
  {
   "cell_type": "code",
   "execution_count": 221,
   "id": "79f84faf-6830-4a14-a130-d0cded4ca2de",
   "metadata": {},
   "outputs": [
    {
     "data": {
      "text/html": [
       "<div>\n",
       "<style scoped>\n",
       "    .dataframe tbody tr th:only-of-type {\n",
       "        vertical-align: middle;\n",
       "    }\n",
       "\n",
       "    .dataframe tbody tr th {\n",
       "        vertical-align: top;\n",
       "    }\n",
       "\n",
       "    .dataframe thead th {\n",
       "        text-align: right;\n",
       "    }\n",
       "</style>\n",
       "<table border=\"1\" class=\"dataframe\">\n",
       "  <thead>\n",
       "    <tr style=\"text-align: right;\">\n",
       "      <th>recipe_id</th>\n",
       "      <th>49</th>\n",
       "      <th>62</th>\n",
       "      <th>66</th>\n",
       "      <th>142</th>\n",
       "      <th>153</th>\n",
       "      <th>167</th>\n",
       "      <th>192</th>\n",
       "      <th>198</th>\n",
       "      <th>232</th>\n",
       "      <th>246</th>\n",
       "      <th>...</th>\n",
       "      <th>514423</th>\n",
       "      <th>514791</th>\n",
       "      <th>516009</th>\n",
       "      <th>517764</th>\n",
       "      <th>517863</th>\n",
       "      <th>518068</th>\n",
       "      <th>518069</th>\n",
       "      <th>518145</th>\n",
       "      <th>518151</th>\n",
       "      <th>524479</th>\n",
       "    </tr>\n",
       "    <tr>\n",
       "      <th>user_id</th>\n",
       "      <th></th>\n",
       "      <th></th>\n",
       "      <th></th>\n",
       "      <th></th>\n",
       "      <th></th>\n",
       "      <th></th>\n",
       "      <th></th>\n",
       "      <th></th>\n",
       "      <th></th>\n",
       "      <th></th>\n",
       "      <th></th>\n",
       "      <th></th>\n",
       "      <th></th>\n",
       "      <th></th>\n",
       "      <th></th>\n",
       "      <th></th>\n",
       "      <th></th>\n",
       "      <th></th>\n",
       "      <th></th>\n",
       "      <th></th>\n",
       "      <th></th>\n",
       "    </tr>\n",
       "  </thead>\n",
       "  <tbody>\n",
       "    <tr>\n",
       "      <th>1533</th>\n",
       "      <td>0.0</td>\n",
       "      <td>0.0</td>\n",
       "      <td>0.0</td>\n",
       "      <td>0.0</td>\n",
       "      <td>0.0</td>\n",
       "      <td>0.0</td>\n",
       "      <td>0.0</td>\n",
       "      <td>0.0</td>\n",
       "      <td>0.0</td>\n",
       "      <td>0.0</td>\n",
       "      <td>...</td>\n",
       "      <td>0.0</td>\n",
       "      <td>0.0</td>\n",
       "      <td>0.0</td>\n",
       "      <td>0.0</td>\n",
       "      <td>0.0</td>\n",
       "      <td>0.0</td>\n",
       "      <td>0.0</td>\n",
       "      <td>0.0</td>\n",
       "      <td>0.0</td>\n",
       "      <td>0.0</td>\n",
       "    </tr>\n",
       "    <tr>\n",
       "      <th>1535</th>\n",
       "      <td>0.0</td>\n",
       "      <td>0.0</td>\n",
       "      <td>0.0</td>\n",
       "      <td>0.0</td>\n",
       "      <td>5.0</td>\n",
       "      <td>0.0</td>\n",
       "      <td>0.0</td>\n",
       "      <td>0.0</td>\n",
       "      <td>0.0</td>\n",
       "      <td>0.0</td>\n",
       "      <td>...</td>\n",
       "      <td>0.0</td>\n",
       "      <td>0.0</td>\n",
       "      <td>0.0</td>\n",
       "      <td>0.0</td>\n",
       "      <td>0.0</td>\n",
       "      <td>0.0</td>\n",
       "      <td>0.0</td>\n",
       "      <td>0.0</td>\n",
       "      <td>0.0</td>\n",
       "      <td>0.0</td>\n",
       "    </tr>\n",
       "    <tr>\n",
       "      <th>1634</th>\n",
       "      <td>0.0</td>\n",
       "      <td>0.0</td>\n",
       "      <td>0.0</td>\n",
       "      <td>0.0</td>\n",
       "      <td>0.0</td>\n",
       "      <td>0.0</td>\n",
       "      <td>0.0</td>\n",
       "      <td>0.0</td>\n",
       "      <td>0.0</td>\n",
       "      <td>0.0</td>\n",
       "      <td>...</td>\n",
       "      <td>0.0</td>\n",
       "      <td>0.0</td>\n",
       "      <td>0.0</td>\n",
       "      <td>0.0</td>\n",
       "      <td>0.0</td>\n",
       "      <td>0.0</td>\n",
       "      <td>0.0</td>\n",
       "      <td>0.0</td>\n",
       "      <td>0.0</td>\n",
       "      <td>0.0</td>\n",
       "    </tr>\n",
       "    <tr>\n",
       "      <th>1676</th>\n",
       "      <td>0.0</td>\n",
       "      <td>0.0</td>\n",
       "      <td>0.0</td>\n",
       "      <td>0.0</td>\n",
       "      <td>0.0</td>\n",
       "      <td>0.0</td>\n",
       "      <td>0.0</td>\n",
       "      <td>0.0</td>\n",
       "      <td>0.0</td>\n",
       "      <td>0.0</td>\n",
       "      <td>...</td>\n",
       "      <td>0.0</td>\n",
       "      <td>0.0</td>\n",
       "      <td>0.0</td>\n",
       "      <td>0.0</td>\n",
       "      <td>0.0</td>\n",
       "      <td>0.0</td>\n",
       "      <td>0.0</td>\n",
       "      <td>0.0</td>\n",
       "      <td>0.0</td>\n",
       "      <td>0.0</td>\n",
       "    </tr>\n",
       "    <tr>\n",
       "      <th>1792</th>\n",
       "      <td>0.0</td>\n",
       "      <td>0.0</td>\n",
       "      <td>0.0</td>\n",
       "      <td>0.0</td>\n",
       "      <td>0.0</td>\n",
       "      <td>0.0</td>\n",
       "      <td>0.0</td>\n",
       "      <td>0.0</td>\n",
       "      <td>0.0</td>\n",
       "      <td>0.0</td>\n",
       "      <td>...</td>\n",
       "      <td>0.0</td>\n",
       "      <td>0.0</td>\n",
       "      <td>0.0</td>\n",
       "      <td>0.0</td>\n",
       "      <td>0.0</td>\n",
       "      <td>0.0</td>\n",
       "      <td>0.0</td>\n",
       "      <td>0.0</td>\n",
       "      <td>0.0</td>\n",
       "      <td>0.0</td>\n",
       "    </tr>\n",
       "    <tr>\n",
       "      <th>...</th>\n",
       "      <td>...</td>\n",
       "      <td>...</td>\n",
       "      <td>...</td>\n",
       "      <td>...</td>\n",
       "      <td>...</td>\n",
       "      <td>...</td>\n",
       "      <td>...</td>\n",
       "      <td>...</td>\n",
       "      <td>...</td>\n",
       "      <td>...</td>\n",
       "      <td>...</td>\n",
       "      <td>...</td>\n",
       "      <td>...</td>\n",
       "      <td>...</td>\n",
       "      <td>...</td>\n",
       "      <td>...</td>\n",
       "      <td>...</td>\n",
       "      <td>...</td>\n",
       "      <td>...</td>\n",
       "      <td>...</td>\n",
       "      <td>...</td>\n",
       "    </tr>\n",
       "    <tr>\n",
       "      <th>2001436530</th>\n",
       "      <td>0.0</td>\n",
       "      <td>0.0</td>\n",
       "      <td>0.0</td>\n",
       "      <td>0.0</td>\n",
       "      <td>0.0</td>\n",
       "      <td>0.0</td>\n",
       "      <td>0.0</td>\n",
       "      <td>0.0</td>\n",
       "      <td>0.0</td>\n",
       "      <td>0.0</td>\n",
       "      <td>...</td>\n",
       "      <td>0.0</td>\n",
       "      <td>0.0</td>\n",
       "      <td>0.0</td>\n",
       "      <td>0.0</td>\n",
       "      <td>0.0</td>\n",
       "      <td>0.0</td>\n",
       "      <td>0.0</td>\n",
       "      <td>0.0</td>\n",
       "      <td>0.0</td>\n",
       "      <td>0.0</td>\n",
       "    </tr>\n",
       "    <tr>\n",
       "      <th>2001513060</th>\n",
       "      <td>0.0</td>\n",
       "      <td>0.0</td>\n",
       "      <td>0.0</td>\n",
       "      <td>0.0</td>\n",
       "      <td>0.0</td>\n",
       "      <td>0.0</td>\n",
       "      <td>0.0</td>\n",
       "      <td>0.0</td>\n",
       "      <td>0.0</td>\n",
       "      <td>0.0</td>\n",
       "      <td>...</td>\n",
       "      <td>0.0</td>\n",
       "      <td>0.0</td>\n",
       "      <td>0.0</td>\n",
       "      <td>0.0</td>\n",
       "      <td>0.0</td>\n",
       "      <td>0.0</td>\n",
       "      <td>0.0</td>\n",
       "      <td>0.0</td>\n",
       "      <td>0.0</td>\n",
       "      <td>0.0</td>\n",
       "    </tr>\n",
       "    <tr>\n",
       "      <th>2001524408</th>\n",
       "      <td>0.0</td>\n",
       "      <td>0.0</td>\n",
       "      <td>0.0</td>\n",
       "      <td>0.0</td>\n",
       "      <td>0.0</td>\n",
       "      <td>0.0</td>\n",
       "      <td>0.0</td>\n",
       "      <td>0.0</td>\n",
       "      <td>0.0</td>\n",
       "      <td>0.0</td>\n",
       "      <td>...</td>\n",
       "      <td>0.0</td>\n",
       "      <td>0.0</td>\n",
       "      <td>0.0</td>\n",
       "      <td>0.0</td>\n",
       "      <td>0.0</td>\n",
       "      <td>0.0</td>\n",
       "      <td>0.0</td>\n",
       "      <td>0.0</td>\n",
       "      <td>0.0</td>\n",
       "      <td>0.0</td>\n",
       "    </tr>\n",
       "    <tr>\n",
       "      <th>2001704911</th>\n",
       "      <td>0.0</td>\n",
       "      <td>0.0</td>\n",
       "      <td>0.0</td>\n",
       "      <td>0.0</td>\n",
       "      <td>0.0</td>\n",
       "      <td>0.0</td>\n",
       "      <td>0.0</td>\n",
       "      <td>0.0</td>\n",
       "      <td>0.0</td>\n",
       "      <td>0.0</td>\n",
       "      <td>...</td>\n",
       "      <td>0.0</td>\n",
       "      <td>0.0</td>\n",
       "      <td>0.0</td>\n",
       "      <td>0.0</td>\n",
       "      <td>0.0</td>\n",
       "      <td>0.0</td>\n",
       "      <td>0.0</td>\n",
       "      <td>0.0</td>\n",
       "      <td>0.0</td>\n",
       "      <td>0.0</td>\n",
       "    </tr>\n",
       "    <tr>\n",
       "      <th>2001836906</th>\n",
       "      <td>0.0</td>\n",
       "      <td>0.0</td>\n",
       "      <td>0.0</td>\n",
       "      <td>0.0</td>\n",
       "      <td>0.0</td>\n",
       "      <td>0.0</td>\n",
       "      <td>0.0</td>\n",
       "      <td>0.0</td>\n",
       "      <td>0.0</td>\n",
       "      <td>0.0</td>\n",
       "      <td>...</td>\n",
       "      <td>0.0</td>\n",
       "      <td>0.0</td>\n",
       "      <td>0.0</td>\n",
       "      <td>0.0</td>\n",
       "      <td>0.0</td>\n",
       "      <td>0.0</td>\n",
       "      <td>0.0</td>\n",
       "      <td>0.0</td>\n",
       "      <td>0.0</td>\n",
       "      <td>0.0</td>\n",
       "    </tr>\n",
       "  </tbody>\n",
       "</table>\n",
       "<p>9970 rows × 9973 columns</p>\n",
       "</div>"
      ],
      "text/plain": [
       "recipe_id   49      62      66      142     153     167     192     198     \\\n",
       "user_id                                                                      \n",
       "1533           0.0     0.0     0.0     0.0     0.0     0.0     0.0     0.0   \n",
       "1535           0.0     0.0     0.0     0.0     5.0     0.0     0.0     0.0   \n",
       "1634           0.0     0.0     0.0     0.0     0.0     0.0     0.0     0.0   \n",
       "1676           0.0     0.0     0.0     0.0     0.0     0.0     0.0     0.0   \n",
       "1792           0.0     0.0     0.0     0.0     0.0     0.0     0.0     0.0   \n",
       "...            ...     ...     ...     ...     ...     ...     ...     ...   \n",
       "2001436530     0.0     0.0     0.0     0.0     0.0     0.0     0.0     0.0   \n",
       "2001513060     0.0     0.0     0.0     0.0     0.0     0.0     0.0     0.0   \n",
       "2001524408     0.0     0.0     0.0     0.0     0.0     0.0     0.0     0.0   \n",
       "2001704911     0.0     0.0     0.0     0.0     0.0     0.0     0.0     0.0   \n",
       "2001836906     0.0     0.0     0.0     0.0     0.0     0.0     0.0     0.0   \n",
       "\n",
       "recipe_id   232     246     ...  514423  514791  516009  517764  517863  \\\n",
       "user_id                     ...                                           \n",
       "1533           0.0     0.0  ...     0.0     0.0     0.0     0.0     0.0   \n",
       "1535           0.0     0.0  ...     0.0     0.0     0.0     0.0     0.0   \n",
       "1634           0.0     0.0  ...     0.0     0.0     0.0     0.0     0.0   \n",
       "1676           0.0     0.0  ...     0.0     0.0     0.0     0.0     0.0   \n",
       "1792           0.0     0.0  ...     0.0     0.0     0.0     0.0     0.0   \n",
       "...            ...     ...  ...     ...     ...     ...     ...     ...   \n",
       "2001436530     0.0     0.0  ...     0.0     0.0     0.0     0.0     0.0   \n",
       "2001513060     0.0     0.0  ...     0.0     0.0     0.0     0.0     0.0   \n",
       "2001524408     0.0     0.0  ...     0.0     0.0     0.0     0.0     0.0   \n",
       "2001704911     0.0     0.0  ...     0.0     0.0     0.0     0.0     0.0   \n",
       "2001836906     0.0     0.0  ...     0.0     0.0     0.0     0.0     0.0   \n",
       "\n",
       "recipe_id   518068  518069  518145  518151  524479  \n",
       "user_id                                             \n",
       "1533           0.0     0.0     0.0     0.0     0.0  \n",
       "1535           0.0     0.0     0.0     0.0     0.0  \n",
       "1634           0.0     0.0     0.0     0.0     0.0  \n",
       "1676           0.0     0.0     0.0     0.0     0.0  \n",
       "1792           0.0     0.0     0.0     0.0     0.0  \n",
       "...            ...     ...     ...     ...     ...  \n",
       "2001436530     0.0     0.0     0.0     0.0     0.0  \n",
       "2001513060     0.0     0.0     0.0     0.0     0.0  \n",
       "2001524408     0.0     0.0     0.0     0.0     0.0  \n",
       "2001704911     0.0     0.0     0.0     0.0     0.0  \n",
       "2001836906     0.0     0.0     0.0     0.0     0.0  \n",
       "\n",
       "[9970 rows x 9973 columns]"
      ]
     },
     "execution_count": 221,
     "metadata": {},
     "output_type": "execute_result"
    }
   ],
   "source": [
    "user_recipe_matrix = filtered_interactions.pivot(index='user_id', columns='recipe_id', values='rating').fillna(0)\n",
    "user_recipe_matrix"
   ]
  },
  {
   "cell_type": "code",
   "execution_count": 223,
   "id": "268e79b2-d66d-4c62-a512-4c9f2922ed2b",
   "metadata": {},
   "outputs": [
    {
     "name": "stdout",
     "output_type": "stream",
     "text": [
      "Predicted rating for user on recipe: 0.2537786495303547\n",
      "Top 3 recommended recipes for user (User-User CF): [1477 1591 3955] with predicted ratings [38.50108374 31.63255998 31.5133748 ]\n",
      "Top 3 recommended recipes for user (User-User CF): [1477 1591 3955] with predicted ratings [38.50108374 31.63255998 31.5133748 ]\n",
      "Top 3 users who would like recipe (Recipe-Recipe CF): [2209 2705 2974] with predicted ratings [555.31440589 106.4899167   96.06663116]\n"
     ]
    }
   ],
   "source": [
    "import numpy as np\n",
    "import pandas as pd\n",
    "from sklearn.decomposition import TruncatedSVD\n",
    "\n",
    "R = user_recipe_matrix.values\n",
    "\n",
    "svd = TruncatedSVD(n_components=10, random_state=42)  \n",
    "U = svd.fit_transform(R) \n",
    "S = np.diag(svd.singular_values_)  \n",
    "Vt = svd.components_  \n",
    "\n",
    "R_hat = np.dot(np.dot(U, S), Vt)\n",
    "\n",
    "def predict_rating(user_index, recipe_index):\n",
    "    return R_hat[user_index, recipe_index]\n",
    "\n",
    "predicted_rating = predict_rating(user_index=0, recipe_index=0)  \n",
    "print(f\"Predicted rating for user on recipe: {predicted_rating}\")\n",
    "\n",
    "from sklearn.metrics.pairwise import cosine_similarity\n",
    "\n",
    "user_similarity = cosine_similarity(U)\n",
    "\n",
    "recipe_similarity = cosine_similarity(Vt)\n",
    "\n",
    "def get_top_similar_users(user_index, top_n=3):\n",
    "    similarities = user_similarity[user_index]\n",
    "    similar_users_idx = similarities.argsort()[::-1][1:top_n+1]  \n",
    "    return similar_users_idx, similarities[similar_users_idx]\n",
    "\n",
    "def get_top_similar_recipes(recipe_index, top_n=3):\n",
    "    similarities = recipe_similarity[recipe_index]\n",
    "    similar_recipes_idx = similarities.argsort()[::-1][1:top_n+1] \n",
    "    return similar_recipes_idx, similarities[similar_recipes_idx]\n",
    "    \n",
    "def predict_user_user(user_index, recipe_index, top_n=3):\n",
    "    similar_users_idx, user_similarities = get_top_similar_users(user_index, top_n)\n",
    "    \n",
    "    ratings = user_recipe_matrix.iloc[similar_users_idx, recipe_index]\n",
    "    \n",
    "    weighted_rating = np.dot(user_similarities, ratings) / np.sum(np.abs(user_similarities))\n",
    "    \n",
    "    return weighted_rating\n",
    "\n",
    "predicted_rating_user_user = predict_user_user(user_index=0, recipe_index=0)\n",
    "\n",
    "def predict_recipe_recipe(user_index, recipe_index, top_n=3):\n",
    "    similar_recipes_idx, recipe_similarities = get_top_similar_recipes(recipe_index, top_n)\n",
    "    \n",
    "    ratings = user_recipe_matrix.iloc[user_index, similar_recipes_idx]\n",
    "    \n",
    "    weighted_rating = np.dot(recipe_similarities, ratings) / np.sum(np.abs(recipe_similarities))\n",
    "    \n",
    "    return weighted_rating\n",
    "\n",
    "predicted_rating_recipe_recipe = predict_recipe_recipe(user_index=0, recipe_index=0)\n",
    "                                                       \n",
    "def recommend_recipes_user(user_index, top_n=5):\n",
    "    predicted_ratings = R_hat[user_index]\n",
    "    \n",
    "    top_recipes_idx = predicted_ratings.argsort()[::-1][:top_n]\n",
    "    \n",
    "    return top_recipes_idx, predicted_ratings[top_recipes_idx]\n",
    "def recommend_recipes_user(user_index, top_n=3):\n",
    "    predicted_ratings = R_hat[user_index]\n",
    "    \n",
    "    top_recipes_idx = predicted_ratings.argsort()[::-1][:top_n]\n",
    "    \n",
    "    return top_recipes_idx, predicted_ratings[top_recipes_idx]\n",
    "\n",
    "recommended_recipes_user, ratings_user = recommend_recipes_user(user_index=0, top_n=3)\n",
    "print(f\"Top 3 recommended recipes for user (User-User CF): {recommended_recipes_user} with predicted ratings {ratings_user}\")\n",
    "\n",
    "recommended_recipes_user, ratings_user = recommend_recipes_user(user_index=0, top_n=3)\n",
    "print(f\"Top 3 recommended recipes for user (User-User CF): {recommended_recipes_user} with predicted ratings {ratings_user}\")\n",
    "def recommend_users_recipe(recipe_index, top_n=5):\n",
    "    predicted_ratings = R_hat[:, recipe_index]\n",
    "    \n",
    "    # Get indices of the top N users\n",
    "    top_users_idx = predicted_ratings.argsort()[::-1][:top_n]\n",
    "    \n",
    "    return top_users_idx, predicted_ratings[top_users_idx]\n",
    "recommended_users_recipe, ratings_recipe = recommend_users_recipe(recipe_index=0, top_n=3)\n",
    "print(f\"Top 3 users who would like recipe (Recipe-Recipe CF): {recommended_users_recipe} with predicted ratings {ratings_recipe}\")\n"
   ]
  },
  {
   "cell_type": "code",
   "execution_count": 224,
   "id": "c5234dfb-4eea-41dd-999a-cd7da9793e9f",
   "metadata": {},
   "outputs": [
    {
     "name": "stdout",
     "output_type": "stream",
     "text": [
      "Top 3 recommended recipes for user (User-User CF): [1477 1591 3955 1514 1975] with predicted ratings [5. 5. 5. 5. 5.]\n",
      "Top 3 users who would like recipe 101 (Recipe-Recipe CF): [2209 2705 2974 9108 2436] with predicted ratings [5. 5. 5. 5. 5.]\n"
     ]
    }
   ],
   "source": [
    "import numpy as np\n",
    "\n",
    "def clip_rating(rating):\n",
    "    return np.clip(rating, 0, 5)\n",
    "\n",
    "def predict_user_user(user_index, recipe_index, top_n=3):\n",
    "    similar_users_idx, user_similarities = get_top_similar_users(user_index, top_n)\n",
    "    \n",
    "    ratings = user_recipe_matrix.iloc[similar_users_idx, recipe_index]\n",
    "    \n",
    "    weighted_rating = np.dot(user_similarities, ratings) / np.sum(np.abs(user_similarities))\n",
    "    \n",
    "    return clip_rating(weighted_rating)\n",
    "\n",
    "predicted_rating_user_user = predict_user_user(user_index=0, recipe_index=0)\n",
    "\n",
    "def predict_recipe_recipe(user_index, recipe_index, top_n=3):\n",
    "    similar_recipes_idx, recipe_similarities = get_top_similar_recipes(recipe_index, top_n)\n",
    "    \n",
    "    ratings = user_recipe_matrix.iloc[user_index, similar_recipes_idx]\n",
    "    \n",
    "    weighted_rating = np.dot(recipe_similarities, ratings) / np.sum(np.abs(recipe_similarities))\n",
    "    \n",
    "    return clip_rating(weighted_rating)\n",
    "\n",
    "predicted_rating_recipe_recipe = predict_recipe_recipe(user_index=0, recipe_index=0)\n",
    "\n",
    "def recommend_recipes_user(user_index, top_n=5):\n",
    "    predicted_ratings = R_hat[user_index]\n",
    "    \n",
    "    top_recipes_idx = predicted_ratings.argsort()[::-1][:top_n]\n",
    "\n",
    "    top_ratings = np.clip(predicted_ratings[top_recipes_idx], 0, 5)\n",
    "    \n",
    "    return top_recipes_idx, top_ratings\n",
    "\n",
    "recommended_recipes_user, ratings_user = recommend_recipes_user(user_index=0, top_n=5)\n",
    "print(f\"Top 3 recommended recipes for user (User-User CF): {recommended_recipes_user} with predicted ratings {ratings_user}\")\n",
    "\n",
    "def recommend_users_recipe(recipe_index, top_n=5):\n",
    "    predicted_ratings = R_hat[:, recipe_index]\n",
    "    \n",
    "    top_users_idx = predicted_ratings.argsort()[::-1][:top_n]\n",
    "    \n",
    "    top_ratings = np.clip(predicted_ratings[top_users_idx], 0, 5)\n",
    "    \n",
    "    return top_users_idx, top_ratings\n",
    "\n",
    "recommended_users_recipe, ratings_recipe = recommend_users_recipe(recipe_index=0, top_n=5)\n",
    "print(f\"Top 3 users who would like recipe 101 (Recipe-Recipe CF): {recommended_users_recipe} with predicted ratings {ratings_recipe}\")\n"
   ]
  },
  {
   "cell_type": "code",
   "execution_count": null,
   "id": "d1f9d47c-c34d-4f17-ad7b-fd310d3acb3a",
   "metadata": {},
   "outputs": [],
   "source": [
    "user_similarity = cosine_similarity(user_recipe_matrix)\n",
    "print(user_similarity)\n",
    "user_similarity.shape"
   ]
  },
  {
   "cell_type": "code",
   "execution_count": null,
   "id": "2be7b56e-4132-441f-a197-f78ec54a96a7",
   "metadata": {},
   "outputs": [],
   "source": [
    "user_predicted_ratings = np.dot(user_similarity, user_recipe_matrix)\n",
    "user_predicted_ratings"
   ]
  },
  {
   "cell_type": "code",
   "execution_count": null,
   "id": "2e1f8227-aade-41ca-9c26-e8e356b9c475",
   "metadata": {},
   "outputs": [],
   "source": [
    "user_final_ratings = np.multiply(user_predicted_ratings, user_recipe_matrix)\n",
    "user_final_ratings.head()"
   ]
  },
  {
   "cell_type": "code",
   "execution_count": null,
   "id": "66f38b0d-0752-4437-9b7b-62a2179b9ccc",
   "metadata": {},
   "outputs": [],
   "source": [
    "user_final_ratings = np.clip(user_final_ratings, 0, 5)"
   ]
  },
  {
   "cell_type": "code",
   "execution_count": null,
   "id": "46da33dc-e609-4365-90b9-83a9055111c7",
   "metadata": {},
   "outputs": [],
   "source": [
    "user_final_ratings.iloc[1792].sort_values(ascending = False)[0:20]"
   ]
  },
  {
   "cell_type": "code",
   "execution_count": null,
   "id": "2e44591e-9092-4831-bbee-6d4f070f3f37",
   "metadata": {},
   "outputs": [],
   "source": [
    "recipe_user_matrix = filtered_interactions.pivot(index='recipe_id', columns='user_id', values='rating').fillna(0)"
   ]
  },
  {
   "cell_type": "code",
   "execution_count": null,
   "id": "adada807-6ccc-470b-b28b-21f73e54d78b",
   "metadata": {},
   "outputs": [],
   "source": [
    "recipe_similarity = cosine_similarity(recipe_user_matrix)\n",
    "print(recipe_similarity)\n",
    "recipe_similarity.shape"
   ]
  },
  {
   "cell_type": "code",
   "execution_count": null,
   "id": "c0de1341-da8d-4dd9-b6af-116c2e358840",
   "metadata": {},
   "outputs": [],
   "source": [
    "recipe_predicted_ratings = np.dot(recipe_similarity, recipe_user_matrix)\n",
    "recipe_predicted_ratings"
   ]
  },
  {
   "cell_type": "code",
   "execution_count": null,
   "id": "7120ffea-0753-48b7-9e03-3c46cc4b65c5",
   "metadata": {},
   "outputs": [],
   "source": [
    "recipe_final_ratings = np.multiply(recipe_predicted_ratings, recipe_user_matrix)\n",
    "recipe_final_ratings.head()"
   ]
  },
  {
   "cell_type": "code",
   "execution_count": null,
   "id": "5a0dae70-eaf5-4b86-bd99-1938e1feff36",
   "metadata": {},
   "outputs": [],
   "source": [
    "recipe_final_ratings = np.clip(user_final_ratings, 0, 5)"
   ]
  },
  {
   "cell_type": "code",
   "execution_count": null,
   "id": "85a87cef-9e57-419d-b93a-30ea773c74d7",
   "metadata": {},
   "outputs": [],
   "source": [
    "recipe_final_ratings.iloc[1535].sort_values(ascending = False)[0:10]"
   ]
  },
  {
   "cell_type": "code",
   "execution_count": null,
   "id": "17e9fd86-10db-4346-91c6-12acf7e050c7",
   "metadata": {},
   "outputs": [],
   "source": [
    "def recommend_recipes(user_id,  n=5):\n",
    "    recipe_similarity = cosine_similarity(recipe_user_matrix)\n",
    "    recipe_predicted_ratings = np.dot(recipe_similarity, recipe_user_matrix)\n",
    "    recipe_final_ratings = np.multiply(recipe_predicted_ratings, recipe_user_matrix)\n",
    "    recipe_final_ratings = np.clip(user_final_ratings, 0, 5)\n",
    "    predictions = recipe_predicted_ratings[:, recipe_final_ratings.index.get_loc(user_id)]\n",
    "    print(predictions)\n",
    "    top_recommendations = pd.Series(predictions).sort_values(ascending=False).head(n)\n",
    "    print(top_recommendations)\n",
    "    recommended_recipes = recipes[recipes['id'].isin(top_recommendations.index)]\n",
    "    print(recommended_recipes)\n",
    "\n",
    "recommend_recipes(1535)"
   ]
  },
  {
   "cell_type": "markdown",
   "id": "1a6dccc0-c746-49c0-9ecb-0ad441a7f495",
   "metadata": {},
   "source": [
    "## Model Based Recommendation"
   ]
  },
  {
   "cell_type": "code",
   "execution_count": null,
   "id": "64fd9f0d-bf73-4ef6-b3d2-75ecdd142705",
   "metadata": {},
   "outputs": [],
   "source": [
    "user_recipe_array = user_recipe_matrix.values\n",
    "user_recipe_array"
   ]
  },
  {
   "cell_type": "code",
   "execution_count": null,
   "id": "0f5923af-156a-4811-a720-05f3624aab6e",
   "metadata": {},
   "outputs": [],
   "source": [
    "from scipy.sparse.linalg import svds\n"
   ]
  },
  {
   "cell_type": "code",
   "execution_count": null,
   "id": "23691c9f-0c4c-404e-879d-a250e4ca5aff",
   "metadata": {},
   "outputs": [],
   "source": [
    "user_recipe_matrix.shape"
   ]
  },
  {
   "cell_type": "code",
   "execution_count": null,
   "id": "c69ff144-9d10-4151-901b-306727f6c314",
   "metadata": {},
   "outputs": [],
   "source": [
    "U, sigma, Vt = svds(user_recipe_array, k=50)\n",
    "sigma = np.diag(sigma)"
   ]
  },
  {
   "cell_type": "code",
   "execution_count": null,
   "id": "3d0929eb-78ee-4481-8a16-45b8835146c5",
   "metadata": {},
   "outputs": [],
   "source": [
    "predicted_ratings = np.dot(np.dot(U, sigma), Vt)"
   ]
  },
  {
   "cell_type": "code",
   "execution_count": null,
   "id": "8764ddef-a132-49e8-aab1-7c5698d58e7a",
   "metadata": {},
   "outputs": [],
   "source": [
    "predicted_ratings"
   ]
  },
  {
   "cell_type": "code",
   "execution_count": null,
   "id": "001664b6-0d82-4919-84fe-7e062fdc0198",
   "metadata": {},
   "outputs": [],
   "source": [
    "predicted_ratings_df = pd.DataFrame(predicted_ratings, index= user_recipe_matrix.index, columns=user_recipe_matrix.columns)"
   ]
  },
  {
   "cell_type": "raw",
   "id": "fa21ac4d-93a7-4158-a4be-228ad5fea118",
   "metadata": {},
   "source": [
    "predicted_ratings_df"
   ]
  },
  {
   "cell_type": "code",
   "execution_count": null,
   "id": "f19e9c02-cc32-4d9d-a4de-41e251a25a1b",
   "metadata": {},
   "outputs": [],
   "source": [
    "predicted_ratings_df.info()"
   ]
  },
  {
   "cell_type": "code",
   "execution_count": null,
   "id": "848bfb9b-1796-4113-9377-04729ff9405f",
   "metadata": {},
   "outputs": [],
   "source": [
    "def recommend_recipes(user_id, predicted_ratings_df, original_matrix, n=5):\n",
    "    user_ratings = original_matrix.loc[user_id]\n",
    "    unrated_recipes = user_ratings[user_ratings == 0].index\n",
    "    predictions = predicted_ratings_df.loc[user_id, unrated_recipes]\n",
    "    top_recommendations = predictions.sort_values(ascending=False).head(n)\n",
    "    recommended_recipes = recipes[recipes['id'].isin(top_recommendations.index)]\n",
    "    recommended_recipes = recommended_recipes.assign(predicted_rating=top_recommendations.values)\n",
    "    \n",
    "    return recommended_recipes.sort_values(by=\"predicted_rating\", ascending=False)"
   ]
  },
  {
   "cell_type": "code",
   "execution_count": null,
   "id": "b55e6d88-7b9d-48d4-8cee-c7de6b45a4ab",
   "metadata": {},
   "outputs": [],
   "source": [
    "recommend_recipes(1533, predicted_ratings_df, user_recipe_matrix)"
   ]
  }
 ],
 "metadata": {
  "kernelspec": {
   "display_name": "TensorFlow_GPU",
   "language": "python",
   "name": "tf_gpu"
  },
  "language_info": {
   "codemirror_mode": {
    "name": "ipython",
    "version": 3
   },
   "file_extension": ".py",
   "mimetype": "text/x-python",
   "name": "python",
   "nbconvert_exporter": "python",
   "pygments_lexer": "ipython3",
   "version": "3.9.20"
  }
 },
 "nbformat": 4,
 "nbformat_minor": 5
}
